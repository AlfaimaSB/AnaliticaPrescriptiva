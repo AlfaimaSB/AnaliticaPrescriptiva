{
 "cells": [
  {
   "cell_type": "code",
   "execution_count": 22,
   "metadata": {},
   "outputs": [
    {
     "name": "stdout",
     "output_type": "stream",
     "text": [
      "Status: Optimal\n",
      "Recomendación de fertilización\n",
      "Avicompost = 3.125 kg\n",
      "TripleNPK = 0.578125 kg\n"
     ]
    }
   ],
   "source": [
    "#Importar paquetes\n",
    "import pulp as lp\n",
    "\n",
    "#-----------------\n",
    "# Modelo\n",
    "#-----------------\n",
    "m = lp.LpProblem(\n",
    "                \"Fertilizacion\", #Nombre \n",
    "                 lp.LpMinimize    #Sentido     \n",
    "                 )\n",
    "#-----------------\n",
    "# Variables\n",
    "#----------------- \n",
    "#Avicompost\n",
    "x1 = lp.LpVariable(\"Avicompost\", #Nombre\n",
    "                   0,            #Valor mínimo\n",
    "                   None,         #Valor máximo\n",
    "                   cat= lp.LpContinuous #naturaleza\n",
    "                  )\n",
    "#TripleNPK\n",
    "x2 = lp.LpVariable(\"TripleNPK\",0,None,cat= lp.LpContinuous)\n",
    "                 \n",
    "#-----------------\n",
    "# Restricciones\n",
    "#----------------- \n",
    "m += x1 >= 1.5, \"MinCompost\"\n",
    "m += 0.0147*x1 + 0.18*x2 >= 0.15, \"Nitrogeno\"\n",
    "m += 0.0436*x1 + 0.18*x2 >= 0.09, \"Fosforo\"\n",
    "m += 0.0307*x1 + 0.18*x2 >= 0.20, \"Potasio\"\n",
    "                 \n",
    "#-----------------\n",
    "# Función objetivo\n",
    "#-----------------\n",
    "\n",
    "m += 280*x1 + 1820*x2 \n",
    "                 \n",
    "#-----------------\n",
    "# Archivo de optimización\n",
    "#-----------------\n",
    "\n",
    "m.writeLP(\"Fertilizantes.lp\")\n",
    "m.solve(lp.PULP_CBC_CMD(msg=0))\n",
    "                 \n",
    "#-----------------\n",
    "# Solución\n",
    "#-----------------\n",
    "print(\"Status:\", lp.LpStatus[m.status])\n",
    "\n",
    "print(\"Recomendación de fertilización\")\n",
    "for v in m.variables():\n",
    "\tprint(v.name, \"=\", v.varValue, \"kg\")"
   ]
  }
 ],
 "metadata": {
  "kernelspec": {
   "display_name": "Python 3",
   "language": "python",
   "name": "python3"
  },
  "language_info": {
   "codemirror_mode": {
    "name": "ipython",
    "version": 3
   },
   "file_extension": ".py",
   "mimetype": "text/x-python",
   "name": "python",
   "nbconvert_exporter": "python",
   "pygments_lexer": "ipython3",
   "version": "3.7.6"
  }
 },
 "nbformat": 4,
 "nbformat_minor": 4
}
